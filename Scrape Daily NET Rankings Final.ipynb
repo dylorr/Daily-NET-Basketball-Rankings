{
 "cells": [
  {
   "cell_type": "markdown",
   "metadata": {},
   "source": [
    "# Intro\n",
    "\n",
    "This notebook was created to pull daily NET rankings from the NCAA website for data aggregation.\n",
    "\n",
    "The NCAA publishes daily NET rankings and updates a single page, but doesn't allow the user to view historical rankings in this easily scrapable form.\n",
    "\n",
    "The NCAA does have an archive for daily NET rankings, denoted as the 'Nitty Gritty'. However, this archive presents the data in an interesting way that isn't easily digestable - a dataframe contained within a web PDF.\n",
    "\n",
    "Determined to figure out a way to aggregated historical NET ranking data (in a way other than scraping the NET rankings EVERY day and having to rely on a solution that deals with a scheduled script - here is a way to scrape PDF data from daily PDF files!\n",
    "\n",
    "From a high level, this is accomplished by:\n",
    "* Understand the structure of the daily NET Ranking PDF URL - then build PDF file URLs\n",
    "* Using Requests, download all existing NET ranking PDF files from URL\n",
    "* Check downloaded filesize to test if there is an updated ranking for that date\n",
    "* Using Tabula and read_pdf, read in locally downloaded NET ranking PDF files as DataFrames\n",
    "    * To install Tabula and utilize read_pdf in a Juypter Notebook: conda install -c conda-forge tabula-py\n",
    "    * More on Tabula: https://pypi.org/project/tabula-py/ \n",
    "* Clean DataFrames (sort, slice, format, etc.)"
   ]
  },
  {
   "cell_type": "code",
   "execution_count": 3,
   "metadata": {},
   "outputs": [],
   "source": [
    "url1 = 'http://extra.ncaa.org/solutions/rpi/Stats%20Library/NET%20Nitty%20Gritty%20-%20Dec.%2017,%202019.pdf'\n",
    "\n",
    "base = 'http://extra.ncaa.org/solutions/rpi/Stats%20Library/NET%20Nitty%20Gritty%20-%20'\n",
    "month = 'Dec'\n",
    "sep1 = '.%20'\n",
    "day = '17'\n",
    "sep2 = ',%20'\n",
    "year = '2019'\n",
    "end = '.pdf'\n",
    "\n",
    "url = base + month + sep1 + day+ sep2 + year + end"
   ]
  },
  {
   "cell_type": "code",
   "execution_count": 99,
   "metadata": {},
   "outputs": [],
   "source": [
    "months = ['Dec', 'Jan', 'Feb', 'Mar', 'Apr']\n",
    "days = list(range(1,32))\n",
    "years = ['2019', '2020']"
   ]
  },
  {
   "cell_type": "markdown",
   "metadata": {},
   "source": [
    "# Build PDF file links"
   ]
  },
  {
   "cell_type": "code",
   "execution_count": 97,
   "metadata": {},
   "outputs": [],
   "source": [
    "\n",
    "url_list = []\n",
    "year = '2019'\n",
    "month = 'Dec'\n",
    "#December\n",
    "for x in days[16:]:\n",
    "    data = base+month+sep1+str(x)+sep2+year+end\n",
    "    url_list.append(data)"
   ]
  },
  {
   "cell_type": "code",
   "execution_count": 102,
   "metadata": {},
   "outputs": [],
   "source": [
    "#2020\n",
    "\n",
    "year = '2020'\n",
    "month = 'Jan'\n",
    "#Jan\n",
    "for x in days[:]:\n",
    "    data = base+month+sep1+str(x)+sep2+year+end\n",
    "    url_list.append(data)\n",
    "        \n",
    "\n",
    "#Feb\n",
    "month = 'Feb'\n",
    "for x in days[:28]:\n",
    "    data = base+month+sep1+str(x)+sep2+year+end\n",
    "    url_list.append(data)\n",
    "    \n",
    "#Mar\n",
    "month = 'Mar'\n",
    "for x in days:\n",
    "    data = base+month+sep1+str(x)+sep2+year+end\n",
    "    url_list.append(data)\n",
    "    \n",
    "#Apr\n",
    "month = 'Apr'\n",
    "for x in days[:30]:\n",
    "    data = base+month+sep1+str(x)+sep2+year+end\n",
    "    url_list.append(data)"
   ]
  },
  {
   "cell_type": "code",
   "execution_count": 130,
   "metadata": {},
   "outputs": [
    {
     "data": {
      "text/plain": [
       "['http://extra.ncaa.org/solutions/rpi/Stats%20Library/NET%20Nitty%20Gritty%20-%20Dec.%2017,%202019.pdf',\n",
       " 'http://extra.ncaa.org/solutions/rpi/Stats%20Library/NET%20Nitty%20Gritty%20-%20Dec.%2018,%202019.pdf',\n",
       " 'http://extra.ncaa.org/solutions/rpi/Stats%20Library/NET%20Nitty%20Gritty%20-%20Dec.%2019,%202019.pdf',\n",
       " 'http://extra.ncaa.org/solutions/rpi/Stats%20Library/NET%20Nitty%20Gritty%20-%20Dec.%2020,%202019.pdf',\n",
       " 'http://extra.ncaa.org/solutions/rpi/Stats%20Library/NET%20Nitty%20Gritty%20-%20Dec.%2021,%202019.pdf',\n",
       " 'http://extra.ncaa.org/solutions/rpi/Stats%20Library/NET%20Nitty%20Gritty%20-%20Dec.%2022,%202019.pdf',\n",
       " 'http://extra.ncaa.org/solutions/rpi/Stats%20Library/NET%20Nitty%20Gritty%20-%20Dec.%2023,%202019.pdf',\n",
       " 'http://extra.ncaa.org/solutions/rpi/Stats%20Library/NET%20Nitty%20Gritty%20-%20Dec.%2024,%202019.pdf',\n",
       " 'http://extra.ncaa.org/solutions/rpi/Stats%20Library/NET%20Nitty%20Gritty%20-%20Dec.%2025,%202019.pdf',\n",
       " 'http://extra.ncaa.org/solutions/rpi/Stats%20Library/NET%20Nitty%20Gritty%20-%20Dec.%2026,%202019.pdf',\n",
       " 'http://extra.ncaa.org/solutions/rpi/Stats%20Library/NET%20Nitty%20Gritty%20-%20Dec.%2027,%202019.pdf',\n",
       " 'http://extra.ncaa.org/solutions/rpi/Stats%20Library/NET%20Nitty%20Gritty%20-%20Dec.%2028,%202019.pdf',\n",
       " 'http://extra.ncaa.org/solutions/rpi/Stats%20Library/NET%20Nitty%20Gritty%20-%20Dec.%2029,%202019.pdf',\n",
       " 'http://extra.ncaa.org/solutions/rpi/Stats%20Library/NET%20Nitty%20Gritty%20-%20Dec.%2030,%202019.pdf',\n",
       " 'http://extra.ncaa.org/solutions/rpi/Stats%20Library/NET%20Nitty%20Gritty%20-%20Dec.%2031,%202019.pdf',\n",
       " 'http://extra.ncaa.org/solutions/rpi/Stats%20Library/NET%20Nitty%20Gritty%20-%20Jan.%201,%202020.pdf',\n",
       " 'http://extra.ncaa.org/solutions/rpi/Stats%20Library/NET%20Nitty%20Gritty%20-%20Jan.%202,%202020.pdf',\n",
       " 'http://extra.ncaa.org/solutions/rpi/Stats%20Library/NET%20Nitty%20Gritty%20-%20Jan.%203,%202020.pdf',\n",
       " 'http://extra.ncaa.org/solutions/rpi/Stats%20Library/NET%20Nitty%20Gritty%20-%20Jan.%204,%202020.pdf',\n",
       " 'http://extra.ncaa.org/solutions/rpi/Stats%20Library/NET%20Nitty%20Gritty%20-%20Jan.%205,%202020.pdf',\n",
       " 'http://extra.ncaa.org/solutions/rpi/Stats%20Library/NET%20Nitty%20Gritty%20-%20Jan.%206,%202020.pdf',\n",
       " 'http://extra.ncaa.org/solutions/rpi/Stats%20Library/NET%20Nitty%20Gritty%20-%20Jan.%207,%202020.pdf',\n",
       " 'http://extra.ncaa.org/solutions/rpi/Stats%20Library/NET%20Nitty%20Gritty%20-%20Jan.%208,%202020.pdf',\n",
       " 'http://extra.ncaa.org/solutions/rpi/Stats%20Library/NET%20Nitty%20Gritty%20-%20Jan.%209,%202020.pdf',\n",
       " 'http://extra.ncaa.org/solutions/rpi/Stats%20Library/NET%20Nitty%20Gritty%20-%20Jan.%2010,%202020.pdf',\n",
       " 'http://extra.ncaa.org/solutions/rpi/Stats%20Library/NET%20Nitty%20Gritty%20-%20Jan.%2011,%202020.pdf',\n",
       " 'http://extra.ncaa.org/solutions/rpi/Stats%20Library/NET%20Nitty%20Gritty%20-%20Jan.%2012,%202020.pdf',\n",
       " 'http://extra.ncaa.org/solutions/rpi/Stats%20Library/NET%20Nitty%20Gritty%20-%20Jan.%2013,%202020.pdf',\n",
       " 'http://extra.ncaa.org/solutions/rpi/Stats%20Library/NET%20Nitty%20Gritty%20-%20Jan.%2014,%202020.pdf',\n",
       " 'http://extra.ncaa.org/solutions/rpi/Stats%20Library/NET%20Nitty%20Gritty%20-%20Jan.%2015,%202020.pdf',\n",
       " 'http://extra.ncaa.org/solutions/rpi/Stats%20Library/NET%20Nitty%20Gritty%20-%20Jan.%2016,%202020.pdf',\n",
       " 'http://extra.ncaa.org/solutions/rpi/Stats%20Library/NET%20Nitty%20Gritty%20-%20Jan.%2017,%202020.pdf',\n",
       " 'http://extra.ncaa.org/solutions/rpi/Stats%20Library/NET%20Nitty%20Gritty%20-%20Jan.%2018,%202020.pdf',\n",
       " 'http://extra.ncaa.org/solutions/rpi/Stats%20Library/NET%20Nitty%20Gritty%20-%20Jan.%2019,%202020.pdf',\n",
       " 'http://extra.ncaa.org/solutions/rpi/Stats%20Library/NET%20Nitty%20Gritty%20-%20Jan.%2020,%202020.pdf',\n",
       " 'http://extra.ncaa.org/solutions/rpi/Stats%20Library/NET%20Nitty%20Gritty%20-%20Jan.%2021,%202020.pdf',\n",
       " 'http://extra.ncaa.org/solutions/rpi/Stats%20Library/NET%20Nitty%20Gritty%20-%20Jan.%2022,%202020.pdf',\n",
       " 'http://extra.ncaa.org/solutions/rpi/Stats%20Library/NET%20Nitty%20Gritty%20-%20Jan.%2023,%202020.pdf',\n",
       " 'http://extra.ncaa.org/solutions/rpi/Stats%20Library/NET%20Nitty%20Gritty%20-%20Jan.%2024,%202020.pdf',\n",
       " 'http://extra.ncaa.org/solutions/rpi/Stats%20Library/NET%20Nitty%20Gritty%20-%20Jan.%2025,%202020.pdf',\n",
       " 'http://extra.ncaa.org/solutions/rpi/Stats%20Library/NET%20Nitty%20Gritty%20-%20Jan.%2026,%202020.pdf',\n",
       " 'http://extra.ncaa.org/solutions/rpi/Stats%20Library/NET%20Nitty%20Gritty%20-%20Jan.%2027,%202020.pdf',\n",
       " 'http://extra.ncaa.org/solutions/rpi/Stats%20Library/NET%20Nitty%20Gritty%20-%20Jan.%2028,%202020.pdf',\n",
       " 'http://extra.ncaa.org/solutions/rpi/Stats%20Library/NET%20Nitty%20Gritty%20-%20Jan.%2029,%202020.pdf',\n",
       " 'http://extra.ncaa.org/solutions/rpi/Stats%20Library/NET%20Nitty%20Gritty%20-%20Jan.%2030,%202020.pdf',\n",
       " 'http://extra.ncaa.org/solutions/rpi/Stats%20Library/NET%20Nitty%20Gritty%20-%20Jan.%2031,%202020.pdf',\n",
       " 'http://extra.ncaa.org/solutions/rpi/Stats%20Library/NET%20Nitty%20Gritty%20-%20Feb.%201,%202020.pdf',\n",
       " 'http://extra.ncaa.org/solutions/rpi/Stats%20Library/NET%20Nitty%20Gritty%20-%20Feb.%202,%202020.pdf',\n",
       " 'http://extra.ncaa.org/solutions/rpi/Stats%20Library/NET%20Nitty%20Gritty%20-%20Feb.%203,%202020.pdf',\n",
       " 'http://extra.ncaa.org/solutions/rpi/Stats%20Library/NET%20Nitty%20Gritty%20-%20Feb.%204,%202020.pdf',\n",
       " 'http://extra.ncaa.org/solutions/rpi/Stats%20Library/NET%20Nitty%20Gritty%20-%20Feb.%205,%202020.pdf',\n",
       " 'http://extra.ncaa.org/solutions/rpi/Stats%20Library/NET%20Nitty%20Gritty%20-%20Feb.%206,%202020.pdf',\n",
       " 'http://extra.ncaa.org/solutions/rpi/Stats%20Library/NET%20Nitty%20Gritty%20-%20Feb.%207,%202020.pdf',\n",
       " 'http://extra.ncaa.org/solutions/rpi/Stats%20Library/NET%20Nitty%20Gritty%20-%20Feb.%208,%202020.pdf',\n",
       " 'http://extra.ncaa.org/solutions/rpi/Stats%20Library/NET%20Nitty%20Gritty%20-%20Feb.%209,%202020.pdf',\n",
       " 'http://extra.ncaa.org/solutions/rpi/Stats%20Library/NET%20Nitty%20Gritty%20-%20Feb.%2010,%202020.pdf',\n",
       " 'http://extra.ncaa.org/solutions/rpi/Stats%20Library/NET%20Nitty%20Gritty%20-%20Feb.%2011,%202020.pdf',\n",
       " 'http://extra.ncaa.org/solutions/rpi/Stats%20Library/NET%20Nitty%20Gritty%20-%20Feb.%2012,%202020.pdf',\n",
       " 'http://extra.ncaa.org/solutions/rpi/Stats%20Library/NET%20Nitty%20Gritty%20-%20Feb.%2013,%202020.pdf',\n",
       " 'http://extra.ncaa.org/solutions/rpi/Stats%20Library/NET%20Nitty%20Gritty%20-%20Feb.%2014,%202020.pdf',\n",
       " 'http://extra.ncaa.org/solutions/rpi/Stats%20Library/NET%20Nitty%20Gritty%20-%20Feb.%2015,%202020.pdf',\n",
       " 'http://extra.ncaa.org/solutions/rpi/Stats%20Library/NET%20Nitty%20Gritty%20-%20Feb.%2016,%202020.pdf',\n",
       " 'http://extra.ncaa.org/solutions/rpi/Stats%20Library/NET%20Nitty%20Gritty%20-%20Feb.%2017,%202020.pdf',\n",
       " 'http://extra.ncaa.org/solutions/rpi/Stats%20Library/NET%20Nitty%20Gritty%20-%20Feb.%2018,%202020.pdf',\n",
       " 'http://extra.ncaa.org/solutions/rpi/Stats%20Library/NET%20Nitty%20Gritty%20-%20Feb.%2019,%202020.pdf',\n",
       " 'http://extra.ncaa.org/solutions/rpi/Stats%20Library/NET%20Nitty%20Gritty%20-%20Feb.%2020,%202020.pdf',\n",
       " 'http://extra.ncaa.org/solutions/rpi/Stats%20Library/NET%20Nitty%20Gritty%20-%20Feb.%2021,%202020.pdf',\n",
       " 'http://extra.ncaa.org/solutions/rpi/Stats%20Library/NET%20Nitty%20Gritty%20-%20Feb.%2022,%202020.pdf',\n",
       " 'http://extra.ncaa.org/solutions/rpi/Stats%20Library/NET%20Nitty%20Gritty%20-%20Feb.%2023,%202020.pdf',\n",
       " 'http://extra.ncaa.org/solutions/rpi/Stats%20Library/NET%20Nitty%20Gritty%20-%20Feb.%2024,%202020.pdf',\n",
       " 'http://extra.ncaa.org/solutions/rpi/Stats%20Library/NET%20Nitty%20Gritty%20-%20Feb.%2025,%202020.pdf',\n",
       " 'http://extra.ncaa.org/solutions/rpi/Stats%20Library/NET%20Nitty%20Gritty%20-%20Feb.%2026,%202020.pdf',\n",
       " 'http://extra.ncaa.org/solutions/rpi/Stats%20Library/NET%20Nitty%20Gritty%20-%20Feb.%2027,%202020.pdf',\n",
       " 'http://extra.ncaa.org/solutions/rpi/Stats%20Library/NET%20Nitty%20Gritty%20-%20Feb.%2028,%202020.pdf',\n",
       " 'http://extra.ncaa.org/solutions/rpi/Stats%20Library/NET%20Nitty%20Gritty%20-%20Mar.%201,%202020.pdf',\n",
       " 'http://extra.ncaa.org/solutions/rpi/Stats%20Library/NET%20Nitty%20Gritty%20-%20Mar.%202,%202020.pdf',\n",
       " 'http://extra.ncaa.org/solutions/rpi/Stats%20Library/NET%20Nitty%20Gritty%20-%20Mar.%203,%202020.pdf',\n",
       " 'http://extra.ncaa.org/solutions/rpi/Stats%20Library/NET%20Nitty%20Gritty%20-%20Mar.%204,%202020.pdf',\n",
       " 'http://extra.ncaa.org/solutions/rpi/Stats%20Library/NET%20Nitty%20Gritty%20-%20Mar.%205,%202020.pdf',\n",
       " 'http://extra.ncaa.org/solutions/rpi/Stats%20Library/NET%20Nitty%20Gritty%20-%20Mar.%206,%202020.pdf',\n",
       " 'http://extra.ncaa.org/solutions/rpi/Stats%20Library/NET%20Nitty%20Gritty%20-%20Mar.%207,%202020.pdf',\n",
       " 'http://extra.ncaa.org/solutions/rpi/Stats%20Library/NET%20Nitty%20Gritty%20-%20Mar.%208,%202020.pdf',\n",
       " 'http://extra.ncaa.org/solutions/rpi/Stats%20Library/NET%20Nitty%20Gritty%20-%20Mar.%209,%202020.pdf',\n",
       " 'http://extra.ncaa.org/solutions/rpi/Stats%20Library/NET%20Nitty%20Gritty%20-%20Mar.%2010,%202020.pdf',\n",
       " 'http://extra.ncaa.org/solutions/rpi/Stats%20Library/NET%20Nitty%20Gritty%20-%20Mar.%2011,%202020.pdf',\n",
       " 'http://extra.ncaa.org/solutions/rpi/Stats%20Library/NET%20Nitty%20Gritty%20-%20Mar.%2012,%202020.pdf',\n",
       " 'http://extra.ncaa.org/solutions/rpi/Stats%20Library/NET%20Nitty%20Gritty%20-%20Mar.%2013,%202020.pdf',\n",
       " 'http://extra.ncaa.org/solutions/rpi/Stats%20Library/NET%20Nitty%20Gritty%20-%20Mar.%2014,%202020.pdf',\n",
       " 'http://extra.ncaa.org/solutions/rpi/Stats%20Library/NET%20Nitty%20Gritty%20-%20Mar.%2015,%202020.pdf',\n",
       " 'http://extra.ncaa.org/solutions/rpi/Stats%20Library/NET%20Nitty%20Gritty%20-%20Mar.%2016,%202020.pdf',\n",
       " 'http://extra.ncaa.org/solutions/rpi/Stats%20Library/NET%20Nitty%20Gritty%20-%20Mar.%2017,%202020.pdf',\n",
       " 'http://extra.ncaa.org/solutions/rpi/Stats%20Library/NET%20Nitty%20Gritty%20-%20Mar.%2018,%202020.pdf',\n",
       " 'http://extra.ncaa.org/solutions/rpi/Stats%20Library/NET%20Nitty%20Gritty%20-%20Mar.%2019,%202020.pdf',\n",
       " 'http://extra.ncaa.org/solutions/rpi/Stats%20Library/NET%20Nitty%20Gritty%20-%20Mar.%2020,%202020.pdf',\n",
       " 'http://extra.ncaa.org/solutions/rpi/Stats%20Library/NET%20Nitty%20Gritty%20-%20Mar.%2021,%202020.pdf',\n",
       " 'http://extra.ncaa.org/solutions/rpi/Stats%20Library/NET%20Nitty%20Gritty%20-%20Mar.%2022,%202020.pdf',\n",
       " 'http://extra.ncaa.org/solutions/rpi/Stats%20Library/NET%20Nitty%20Gritty%20-%20Mar.%2023,%202020.pdf',\n",
       " 'http://extra.ncaa.org/solutions/rpi/Stats%20Library/NET%20Nitty%20Gritty%20-%20Mar.%2024,%202020.pdf',\n",
       " 'http://extra.ncaa.org/solutions/rpi/Stats%20Library/NET%20Nitty%20Gritty%20-%20Mar.%2025,%202020.pdf',\n",
       " 'http://extra.ncaa.org/solutions/rpi/Stats%20Library/NET%20Nitty%20Gritty%20-%20Mar.%2026,%202020.pdf',\n",
       " 'http://extra.ncaa.org/solutions/rpi/Stats%20Library/NET%20Nitty%20Gritty%20-%20Mar.%2027,%202020.pdf',\n",
       " 'http://extra.ncaa.org/solutions/rpi/Stats%20Library/NET%20Nitty%20Gritty%20-%20Mar.%2028,%202020.pdf',\n",
       " 'http://extra.ncaa.org/solutions/rpi/Stats%20Library/NET%20Nitty%20Gritty%20-%20Mar.%2029,%202020.pdf',\n",
       " 'http://extra.ncaa.org/solutions/rpi/Stats%20Library/NET%20Nitty%20Gritty%20-%20Mar.%2030,%202020.pdf',\n",
       " 'http://extra.ncaa.org/solutions/rpi/Stats%20Library/NET%20Nitty%20Gritty%20-%20Mar.%2031,%202020.pdf',\n",
       " 'http://extra.ncaa.org/solutions/rpi/Stats%20Library/NET%20Nitty%20Gritty%20-%20Apr.%201,%202020.pdf',\n",
       " 'http://extra.ncaa.org/solutions/rpi/Stats%20Library/NET%20Nitty%20Gritty%20-%20Apr.%202,%202020.pdf',\n",
       " 'http://extra.ncaa.org/solutions/rpi/Stats%20Library/NET%20Nitty%20Gritty%20-%20Apr.%203,%202020.pdf',\n",
       " 'http://extra.ncaa.org/solutions/rpi/Stats%20Library/NET%20Nitty%20Gritty%20-%20Apr.%204,%202020.pdf',\n",
       " 'http://extra.ncaa.org/solutions/rpi/Stats%20Library/NET%20Nitty%20Gritty%20-%20Apr.%205,%202020.pdf',\n",
       " 'http://extra.ncaa.org/solutions/rpi/Stats%20Library/NET%20Nitty%20Gritty%20-%20Apr.%206,%202020.pdf',\n",
       " 'http://extra.ncaa.org/solutions/rpi/Stats%20Library/NET%20Nitty%20Gritty%20-%20Apr.%207,%202020.pdf',\n",
       " 'http://extra.ncaa.org/solutions/rpi/Stats%20Library/NET%20Nitty%20Gritty%20-%20Apr.%208,%202020.pdf',\n",
       " 'http://extra.ncaa.org/solutions/rpi/Stats%20Library/NET%20Nitty%20Gritty%20-%20Apr.%209,%202020.pdf',\n",
       " 'http://extra.ncaa.org/solutions/rpi/Stats%20Library/NET%20Nitty%20Gritty%20-%20Apr.%2010,%202020.pdf',\n",
       " 'http://extra.ncaa.org/solutions/rpi/Stats%20Library/NET%20Nitty%20Gritty%20-%20Apr.%2011,%202020.pdf',\n",
       " 'http://extra.ncaa.org/solutions/rpi/Stats%20Library/NET%20Nitty%20Gritty%20-%20Apr.%2012,%202020.pdf',\n",
       " 'http://extra.ncaa.org/solutions/rpi/Stats%20Library/NET%20Nitty%20Gritty%20-%20Apr.%2013,%202020.pdf',\n",
       " 'http://extra.ncaa.org/solutions/rpi/Stats%20Library/NET%20Nitty%20Gritty%20-%20Apr.%2014,%202020.pdf',\n",
       " 'http://extra.ncaa.org/solutions/rpi/Stats%20Library/NET%20Nitty%20Gritty%20-%20Apr.%2015,%202020.pdf',\n",
       " 'http://extra.ncaa.org/solutions/rpi/Stats%20Library/NET%20Nitty%20Gritty%20-%20Apr.%2016,%202020.pdf',\n",
       " 'http://extra.ncaa.org/solutions/rpi/Stats%20Library/NET%20Nitty%20Gritty%20-%20Apr.%2017,%202020.pdf',\n",
       " 'http://extra.ncaa.org/solutions/rpi/Stats%20Library/NET%20Nitty%20Gritty%20-%20Apr.%2018,%202020.pdf',\n",
       " 'http://extra.ncaa.org/solutions/rpi/Stats%20Library/NET%20Nitty%20Gritty%20-%20Apr.%2019,%202020.pdf',\n",
       " 'http://extra.ncaa.org/solutions/rpi/Stats%20Library/NET%20Nitty%20Gritty%20-%20Apr.%2020,%202020.pdf',\n",
       " 'http://extra.ncaa.org/solutions/rpi/Stats%20Library/NET%20Nitty%20Gritty%20-%20Apr.%2021,%202020.pdf',\n",
       " 'http://extra.ncaa.org/solutions/rpi/Stats%20Library/NET%20Nitty%20Gritty%20-%20Apr.%2022,%202020.pdf',\n",
       " 'http://extra.ncaa.org/solutions/rpi/Stats%20Library/NET%20Nitty%20Gritty%20-%20Apr.%2023,%202020.pdf',\n",
       " 'http://extra.ncaa.org/solutions/rpi/Stats%20Library/NET%20Nitty%20Gritty%20-%20Apr.%2024,%202020.pdf',\n",
       " 'http://extra.ncaa.org/solutions/rpi/Stats%20Library/NET%20Nitty%20Gritty%20-%20Apr.%2025,%202020.pdf',\n",
       " 'http://extra.ncaa.org/solutions/rpi/Stats%20Library/NET%20Nitty%20Gritty%20-%20Apr.%2026,%202020.pdf',\n",
       " 'http://extra.ncaa.org/solutions/rpi/Stats%20Library/NET%20Nitty%20Gritty%20-%20Apr.%2027,%202020.pdf',\n",
       " 'http://extra.ncaa.org/solutions/rpi/Stats%20Library/NET%20Nitty%20Gritty%20-%20Apr.%2028,%202020.pdf',\n",
       " 'http://extra.ncaa.org/solutions/rpi/Stats%20Library/NET%20Nitty%20Gritty%20-%20Apr.%2029,%202020.pdf',\n",
       " 'http://extra.ncaa.org/solutions/rpi/Stats%20Library/NET%20Nitty%20Gritty%20-%20Apr.%2030,%202020.pdf']"
      ]
     },
     "execution_count": 130,
     "metadata": {},
     "output_type": "execute_result"
    }
   ],
   "source": [
    "url_list"
   ]
  },
  {
   "cell_type": "markdown",
   "metadata": {},
   "source": [
    "# Download PDF locally and define naming convention\n",
    "###### Specify subset of url_list you want to use - denoted by urls_test"
   ]
  },
  {
   "cell_type": "code",
   "execution_count": 136,
   "metadata": {},
   "outputs": [],
   "source": [
    "import requests\n",
    "urls_test = url_list[:6]\n",
    "\n",
    "file_list = [] \n",
    "\n",
    "for x in urls_test:\n",
    "    response = requests.get(x)\n",
    "    name = 'NET'+ x[79:82] + x[86:88] + '.pdf'\n",
    "    file_list.append(name)\n",
    "    with open(name, 'wb') as f:\n",
    "        f.write(response.content)"
   ]
  },
  {
   "cell_type": "markdown",
   "metadata": {},
   "source": [
    "# Check if the downloaded PDF file is valid. We \"create\" a filename for every day for simplicity, but not every day is associated with a new NET file.\n",
    "\n",
    "##### More simply put, the NCAA doesn't upload a new file every day. We can figure out the valid new files by checking the file sizes"
   ]
  },
  {
   "cell_type": "code",
   "execution_count": 191,
   "metadata": {},
   "outputs": [],
   "source": [
    "import os\n",
    "for x in file_list:\n",
    "    \n",
    "    size = os.path.getsize(x)\n",
    "    if size <= 788:\n",
    "        file_list.remove(x)"
   ]
  },
  {
   "cell_type": "markdown",
   "metadata": {},
   "source": [
    "# Loop through locally downloaded PDFs, convert to DataFrame, clean and save again as a CSV"
   ]
  },
  {
   "cell_type": "code",
   "execution_count": 171,
   "metadata": {},
   "outputs": [],
   "source": [
    "import tabula\n",
    "import pandas"
   ]
  },
  {
   "cell_type": "code",
   "execution_count": 172,
   "metadata": {},
   "outputs": [],
   "source": [
    "from tabula import read_pdf"
   ]
  },
  {
   "cell_type": "code",
   "execution_count": 193,
   "metadata": {},
   "outputs": [],
   "source": [
    "for x in file_list:\n",
    "    name_file_1 = 'Downloads/' \n",
    "    name_file = name_file_1 + x\n",
    "    \n",
    "    df_temp = read_pdf(input_path = x, pandas_options = ({'header' : None}), pages =\"all\")\n",
    "\n",
    "    df1_temp = df_temp.rename(columns = {0: \"School\", 1: \"Rank\", 2: \"Avg. Opponent NET\",  3: \"Avg. Opponent Rank\", 4: \"Record\", 5: \"Conf Record\", 6: \"Non-Conf Record\", 7: \"Road Record\",  8: \"SOS\", 9: \"NC SOS\", 10: \"Q1 Rec\", 11: \"Q2 Rec\", 12: \"Q3 Rec\", 13: \"Q4 Rec\"})\n",
    "\n",
    "    df1_temp['Rank'] = df1_temp['Rank'].astype(int)\n",
    "    df1['School'] = df1['School'].str[2:]\n",
    "    save_name = x[:-4] + '.csv'\n",
    "    df1_temp.to_csv(save_name)"
   ]
  }
 ],
 "metadata": {
  "kernelspec": {
   "display_name": "Python 3",
   "language": "python",
   "name": "python3"
  },
  "language_info": {
   "codemirror_mode": {
    "name": "ipython",
    "version": 3
   },
   "file_extension": ".py",
   "mimetype": "text/x-python",
   "name": "python",
   "nbconvert_exporter": "python",
   "pygments_lexer": "ipython3",
   "version": "3.7.3"
  }
 },
 "nbformat": 4,
 "nbformat_minor": 2
}
